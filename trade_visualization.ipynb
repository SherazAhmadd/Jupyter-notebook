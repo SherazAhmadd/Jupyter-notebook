{
 "cells": [
  {
   "cell_type": "code",
   "execution_count": 28,
   "metadata": {},
   "outputs": [
    {
     "data": {
      "text/html": [
       "<div>\n",
       "<style scoped>\n",
       "    .dataframe tbody tr th:only-of-type {\n",
       "        vertical-align: middle;\n",
       "    }\n",
       "\n",
       "    .dataframe tbody tr th {\n",
       "        vertical-align: top;\n",
       "    }\n",
       "\n",
       "    .dataframe thead th {\n",
       "        text-align: right;\n",
       "    }\n",
       "</style>\n",
       "<table border=\"1\" class=\"dataframe\">\n",
       "  <thead>\n",
       "    <tr style=\"text-align: right;\">\n",
       "      <th></th>\n",
       "      <th>Domain Code</th>\n",
       "      <th>Domain</th>\n",
       "      <th>Area Code (M49)</th>\n",
       "      <th>Area</th>\n",
       "      <th>Element Code</th>\n",
       "      <th>Element</th>\n",
       "      <th>Item Code (CPC)</th>\n",
       "      <th>Item</th>\n",
       "      <th>Year Code</th>\n",
       "      <th>Year</th>\n",
       "      <th>Unit</th>\n",
       "      <th>Value</th>\n",
       "      <th>Flag</th>\n",
       "      <th>Flag Description</th>\n",
       "    </tr>\n",
       "  </thead>\n",
       "  <tbody>\n",
       "    <tr>\n",
       "      <th>0</th>\n",
       "      <td>TCL</td>\n",
       "      <td>Crops and livestock products</td>\n",
       "      <td>4</td>\n",
       "      <td>Afghanistan</td>\n",
       "      <td>5610</td>\n",
       "      <td>Import Quantity</td>\n",
       "      <td>113</td>\n",
       "      <td>Rice</td>\n",
       "      <td>2018</td>\n",
       "      <td>2018</td>\n",
       "      <td>t</td>\n",
       "      <td>739.00</td>\n",
       "      <td>T</td>\n",
       "      <td>Unofficial figure</td>\n",
       "    </tr>\n",
       "    <tr>\n",
       "      <th>1</th>\n",
       "      <td>TCL</td>\n",
       "      <td>Crops and livestock products</td>\n",
       "      <td>4</td>\n",
       "      <td>Afghanistan</td>\n",
       "      <td>5610</td>\n",
       "      <td>Import Quantity</td>\n",
       "      <td>113</td>\n",
       "      <td>Rice</td>\n",
       "      <td>2020</td>\n",
       "      <td>2020</td>\n",
       "      <td>t</td>\n",
       "      <td>103.17</td>\n",
       "      <td>T</td>\n",
       "      <td>Unofficial figure</td>\n",
       "    </tr>\n",
       "    <tr>\n",
       "      <th>2</th>\n",
       "      <td>TCL</td>\n",
       "      <td>Crops and livestock products</td>\n",
       "      <td>4</td>\n",
       "      <td>Afghanistan</td>\n",
       "      <td>5610</td>\n",
       "      <td>Import Quantity</td>\n",
       "      <td>113</td>\n",
       "      <td>Rice</td>\n",
       "      <td>2021</td>\n",
       "      <td>2021</td>\n",
       "      <td>t</td>\n",
       "      <td>75.00</td>\n",
       "      <td>T</td>\n",
       "      <td>Unofficial figure</td>\n",
       "    </tr>\n",
       "    <tr>\n",
       "      <th>3</th>\n",
       "      <td>TCL</td>\n",
       "      <td>Crops and livestock products</td>\n",
       "      <td>4</td>\n",
       "      <td>Afghanistan</td>\n",
       "      <td>5610</td>\n",
       "      <td>Import Quantity</td>\n",
       "      <td>111</td>\n",
       "      <td>Wheat</td>\n",
       "      <td>2018</td>\n",
       "      <td>2018</td>\n",
       "      <td>t</td>\n",
       "      <td>692468.00</td>\n",
       "      <td>A</td>\n",
       "      <td>Official figure</td>\n",
       "    </tr>\n",
       "    <tr>\n",
       "      <th>4</th>\n",
       "      <td>TCL</td>\n",
       "      <td>Crops and livestock products</td>\n",
       "      <td>4</td>\n",
       "      <td>Afghanistan</td>\n",
       "      <td>5610</td>\n",
       "      <td>Import Quantity</td>\n",
       "      <td>111</td>\n",
       "      <td>Wheat</td>\n",
       "      <td>2019</td>\n",
       "      <td>2019</td>\n",
       "      <td>t</td>\n",
       "      <td>431909.00</td>\n",
       "      <td>A</td>\n",
       "      <td>Official figure</td>\n",
       "    </tr>\n",
       "  </tbody>\n",
       "</table>\n",
       "</div>"
      ],
      "text/plain": [
       "  Domain Code                        Domain  Area Code (M49)         Area  \\\n",
       "0         TCL  Crops and livestock products                4  Afghanistan   \n",
       "1         TCL  Crops and livestock products                4  Afghanistan   \n",
       "2         TCL  Crops and livestock products                4  Afghanistan   \n",
       "3         TCL  Crops and livestock products                4  Afghanistan   \n",
       "4         TCL  Crops and livestock products                4  Afghanistan   \n",
       "\n",
       "   Element Code          Element  Item Code (CPC)   Item  Year Code  Year  \\\n",
       "0          5610  Import Quantity              113   Rice       2018  2018   \n",
       "1          5610  Import Quantity              113   Rice       2020  2020   \n",
       "2          5610  Import Quantity              113   Rice       2021  2021   \n",
       "3          5610  Import Quantity              111  Wheat       2018  2018   \n",
       "4          5610  Import Quantity              111  Wheat       2019  2019   \n",
       "\n",
       "  Unit      Value Flag   Flag Description  \n",
       "0    t     739.00    T  Unofficial figure  \n",
       "1    t     103.17    T  Unofficial figure  \n",
       "2    t      75.00    T  Unofficial figure  \n",
       "3    t  692468.00    A    Official figure  \n",
       "4    t  431909.00    A    Official figure  "
      ]
     },
     "execution_count": 28,
     "metadata": {},
     "output_type": "execute_result"
    }
   ],
   "source": [
    "import pandas as pd\n",
    "import numpy as np\n",
    "import seaborn as sns\n",
    "import matplotlib.pyplot as plt\n",
    "sns.set_theme(style=\"whitegrid\")\n",
    "file_path = 'D:/Data science projects/one.csv'\n",
    "trade = pd.read_csv(file_path)\n",
    "trade.head()\n"
   ]
  },
  {
   "cell_type": "markdown",
   "metadata": {},
   "source": [
    "## Cleaning and Filteration\n"
   ]
  },
  {
   "cell_type": "code",
   "execution_count": 5,
   "metadata": {},
   "outputs": [
    {
     "data": {
      "text/plain": [
       "Domain Code         0\n",
       "Domain              0\n",
       "Area Code (M49)     0\n",
       "Area                0\n",
       "Element Code        0\n",
       "Element             0\n",
       "Item Code (CPC)     0\n",
       "Item                0\n",
       "Year Code           0\n",
       "Year                0\n",
       "Unit                0\n",
       "Value               0\n",
       "Flag                0\n",
       "Flag Description    0\n",
       "dtype: int64"
      ]
     },
     "execution_count": 5,
     "metadata": {},
     "output_type": "execute_result"
    }
   ],
   "source": [
    "trade.isnull().sum()"
   ]
  },
  {
   "cell_type": "code",
   "execution_count": 16,
   "metadata": {},
   "outputs": [
    {
     "data": {
      "text/html": [
       "<div>\n",
       "<style scoped>\n",
       "    .dataframe tbody tr th:only-of-type {\n",
       "        vertical-align: middle;\n",
       "    }\n",
       "\n",
       "    .dataframe tbody tr th {\n",
       "        vertical-align: top;\n",
       "    }\n",
       "\n",
       "    .dataframe thead th {\n",
       "        text-align: right;\n",
       "    }\n",
       "</style>\n",
       "<table border=\"1\" class=\"dataframe\">\n",
       "  <thead>\n",
       "    <tr style=\"text-align: right;\">\n",
       "      <th></th>\n",
       "      <th>Area</th>\n",
       "      <th>Element</th>\n",
       "      <th>Item</th>\n",
       "      <th>Year</th>\n",
       "      <th>Unit</th>\n",
       "      <th>Value</th>\n",
       "    </tr>\n",
       "  </thead>\n",
       "  <tbody>\n",
       "    <tr>\n",
       "      <th>0</th>\n",
       "      <td>Afghanistan</td>\n",
       "      <td>Import Quantity</td>\n",
       "      <td>Rice</td>\n",
       "      <td>2018</td>\n",
       "      <td>t</td>\n",
       "      <td>739.00</td>\n",
       "    </tr>\n",
       "    <tr>\n",
       "      <th>1</th>\n",
       "      <td>Afghanistan</td>\n",
       "      <td>Import Quantity</td>\n",
       "      <td>Rice</td>\n",
       "      <td>2020</td>\n",
       "      <td>t</td>\n",
       "      <td>103.17</td>\n",
       "    </tr>\n",
       "    <tr>\n",
       "      <th>2</th>\n",
       "      <td>Afghanistan</td>\n",
       "      <td>Import Quantity</td>\n",
       "      <td>Rice</td>\n",
       "      <td>2021</td>\n",
       "      <td>t</td>\n",
       "      <td>75.00</td>\n",
       "    </tr>\n",
       "    <tr>\n",
       "      <th>3</th>\n",
       "      <td>Afghanistan</td>\n",
       "      <td>Import Quantity</td>\n",
       "      <td>Wheat</td>\n",
       "      <td>2018</td>\n",
       "      <td>t</td>\n",
       "      <td>692468.00</td>\n",
       "    </tr>\n",
       "    <tr>\n",
       "      <th>4</th>\n",
       "      <td>Afghanistan</td>\n",
       "      <td>Import Quantity</td>\n",
       "      <td>Wheat</td>\n",
       "      <td>2019</td>\n",
       "      <td>t</td>\n",
       "      <td>431909.00</td>\n",
       "    </tr>\n",
       "    <tr>\n",
       "      <th>...</th>\n",
       "      <td>...</td>\n",
       "      <td>...</td>\n",
       "      <td>...</td>\n",
       "      <td>...</td>\n",
       "      <td>...</td>\n",
       "      <td>...</td>\n",
       "    </tr>\n",
       "    <tr>\n",
       "      <th>2284</th>\n",
       "      <td>Zimbabwe</td>\n",
       "      <td>Import Quantity</td>\n",
       "      <td>Wheat</td>\n",
       "      <td>2020</td>\n",
       "      <td>t</td>\n",
       "      <td>244249.01</td>\n",
       "    </tr>\n",
       "    <tr>\n",
       "      <th>2285</th>\n",
       "      <td>Zimbabwe</td>\n",
       "      <td>Import Quantity</td>\n",
       "      <td>Wheat</td>\n",
       "      <td>2021</td>\n",
       "      <td>t</td>\n",
       "      <td>180725.49</td>\n",
       "    </tr>\n",
       "    <tr>\n",
       "      <th>2286</th>\n",
       "      <td>Zimbabwe</td>\n",
       "      <td>Export Quantity</td>\n",
       "      <td>Wheat</td>\n",
       "      <td>2018</td>\n",
       "      <td>t</td>\n",
       "      <td>7.05</td>\n",
       "    </tr>\n",
       "    <tr>\n",
       "      <th>2287</th>\n",
       "      <td>Zimbabwe</td>\n",
       "      <td>Export Quantity</td>\n",
       "      <td>Wheat</td>\n",
       "      <td>2019</td>\n",
       "      <td>t</td>\n",
       "      <td>300.00</td>\n",
       "    </tr>\n",
       "    <tr>\n",
       "      <th>2288</th>\n",
       "      <td>Zimbabwe</td>\n",
       "      <td>Export Quantity</td>\n",
       "      <td>Wheat</td>\n",
       "      <td>2020</td>\n",
       "      <td>t</td>\n",
       "      <td>2083.00</td>\n",
       "    </tr>\n",
       "  </tbody>\n",
       "</table>\n",
       "<p>2289 rows × 6 columns</p>\n",
       "</div>"
      ],
      "text/plain": [
       "             Area          Element   Item  Year Unit      Value\n",
       "0     Afghanistan  Import Quantity   Rice  2018    t     739.00\n",
       "1     Afghanistan  Import Quantity   Rice  2020    t     103.17\n",
       "2     Afghanistan  Import Quantity   Rice  2021    t      75.00\n",
       "3     Afghanistan  Import Quantity  Wheat  2018    t  692468.00\n",
       "4     Afghanistan  Import Quantity  Wheat  2019    t  431909.00\n",
       "...           ...              ...    ...   ...  ...        ...\n",
       "2284     Zimbabwe  Import Quantity  Wheat  2020    t  244249.01\n",
       "2285     Zimbabwe  Import Quantity  Wheat  2021    t  180725.49\n",
       "2286     Zimbabwe  Export Quantity  Wheat  2018    t       7.05\n",
       "2287     Zimbabwe  Export Quantity  Wheat  2019    t     300.00\n",
       "2288     Zimbabwe  Export Quantity  Wheat  2020    t    2083.00\n",
       "\n",
       "[2289 rows x 6 columns]"
      ]
     },
     "execution_count": 16,
     "metadata": {},
     "output_type": "execute_result"
    }
   ],
   "source": [
    "trade = trade.drop(['Domain Code','Domain','Area Code (M49)','Element Code','Item Code (CPC)','Year Code',\n",
    "'Flag','Flag Description'],axis=1)"
   ]
  },
  {
   "cell_type": "code",
   "execution_count": 17,
   "metadata": {},
   "outputs": [
    {
     "name": "stdout",
     "output_type": "stream",
     "text": [
      "<class 'pandas.core.frame.DataFrame'>\n",
      "RangeIndex: 2289 entries, 0 to 2288\n",
      "Data columns (total 6 columns):\n",
      " #   Column   Non-Null Count  Dtype  \n",
      "---  ------   --------------  -----  \n",
      " 0   Area     2289 non-null   object \n",
      " 1   Element  2289 non-null   object \n",
      " 2   Item     2289 non-null   object \n",
      " 3   Year     2289 non-null   int64  \n",
      " 4   Unit     2289 non-null   object \n",
      " 5   Value    2289 non-null   float64\n",
      "dtypes: float64(1), int64(1), object(4)\n",
      "memory usage: 107.4+ KB\n"
     ]
    }
   ],
   "source": [
    "trade.info()"
   ]
  },
  {
   "cell_type": "code",
   "execution_count": 31,
   "metadata": {},
   "outputs": [
    {
     "name": "stderr",
     "output_type": "stream",
     "text": [
      "C:\\Users\\hp\\AppData\\Local\\Temp\\ipykernel_6808\\2868530374.py:1: FutureWarning: \n",
      "\n",
      "The `ci` parameter is deprecated. Use `errorbar=None` for the same effect.\n",
      "\n",
      "  sns.catplot(data=trade, x=\"Year\", y=\"Value\", hue=\"Element\",kind=\"bar\",col=\"Item\",ci=None)\n",
      "c:\\Users\\hp\\AppData\\Local\\Programs\\Python\\Python311\\Lib\\site-packages\\seaborn\\axisgrid.py:118: UserWarning: The figure layout has changed to tight\n",
      "  self._figure.tight_layout(*args, **kwargs)\n"
     ]
    },
    {
     "data": {
      "image/png": "[encoded data removed]",
      "text/plain": [
       "<Figure size 1159.88x500 with 2 Axes>"
      ]
     },
     "metadata": {},
     "output_type": "display_data"
    }
   ],
   "source": [
    "sns.catplot(data=trade, x=\"Year\", y=\"Value\", hue=\"Element\",kind=\"bar\",col=\"Item\",ci=None)\n",
    "plt.show()"
   ]
  },
  {
   "cell_type": "code",
   "execution_count": 47,
   "metadata": {},
   "outputs": [
    {
     "name": "stderr",
     "output_type": "stream",
     "text": [
      "C:\\Users\\hp\\AppData\\Local\\Temp\\ipykernel_6808\\1814165143.py:10: FutureWarning: \n",
      "\n",
      "The `ci` parameter is deprecated. Use `errorbar=None` for the same effect.\n",
      "\n",
      "  sns.barplot(data=trade1, x=\"Year\", y=\"Value\", hue=\"Element\",ci=None)\n"
     ]
    },
    {
     "data": {
      "image/png": "[encoded data removed]",
      "text/plain": [
       "<Figure size 640x480 with 1 Axes>"
      ]
     },
     "metadata": {},
     "output_type": "display_data"
    }
   ],
   "source": [
    "import pandas as pd\n",
    "import numpy as np\n",
    "import seaborn as sns\n",
    "import matplotlib.pyplot as plt\n",
    "# sns.set_theme(style=\"whitegrid\")\n",
    "file_path = 'D:/Data science projects/two.csv'\n",
    "trade1 = pd.read_csv(file_path)\n",
    "trade1 = trade1.drop(['Domain Code','Domain','Area Code (M49)','Element Code','Item Code (CPC)','Year Code',\n",
    "'Flag','Flag Description'],axis=1)\n",
    "sns.barplot(data=trade1, x=\"Year\", y=\"Value\", hue=\"Element\",ci=None)\n",
    "plt.show()\n"
   ]
  },
  {
   "cell_type": "code",
   "execution_count": 62,
   "metadata": {},
   "outputs": [
    {
     "name": "stderr",
     "output_type": "stream",
     "text": [
      "C:\\Users\\hp\\AppData\\Local\\Temp\\ipykernel_6808\\2976617104.py:18: FutureWarning: \n",
      "\n",
      "The `ci` parameter is deprecated. Use `errorbar=None` for the same effect.\n",
      "\n",
      "  sns.barplot(data=trade1, x=\"Year\", y=\"Value\", hue=\"Element\", ci=None)\n"
     ]
    },
    {
     "data": {
      "image/png": "[encoded data removed]",
      "text/plain": [
       "<Figure size 640x480 with 1 Axes>"
      ]
     },
     "metadata": {},
     "output_type": "display_data"
    }
   ],
   "source": [
    "import pandas as pd\n",
    "import seaborn as sns\n",
    "import matplotlib.pyplot as plt\n",
    "\n",
    "# Load the dataset\n",
    "file_path = 'D:/Data science projects/two.csv'\n",
    "trade1 = pd.read_csv(file_path)\n",
    "trade1 = trade1.drop(['Domain Code','Domain','Area Code (M49)','Element Code','Item Code (CPC)','Year Code',\n",
    "'Flag','Flag Description'],axis=1)\n",
    "\n",
    "# Create a custom color palette with blue and black\n",
    "# custom_palette = [\"#FFD700\", \"#006400\"]  # Gold and blue colors\n",
    "\n",
    "# Set the custom color palette\n",
    "sns.set_palette(\"colorblind\")\n",
    "\n",
    "# Create the bar plot using Seaborn\n",
    "sns.barplot(data=trade1, x=\"Year\", y=\"Value\", hue=\"Element\", ci=None)\n",
    "\n",
    "# Display the plot\n",
    "plt.show()\n"
   ]
  },
  {
   "cell_type": "code",
   "execution_count": null,
   "metadata": {},
   "outputs": [],
   "source": []
  },
  {
   "cell_type": "code",
   "execution_count": null,
   "metadata": {},
   "outputs": [],
   "source": []
  },
  {
   "cell_type": "code",
   "execution_count": null,
   "metadata": {},
   "outputs": [],
   "source": []
  }
 ],
 "metadata": {
  "kernelspec": {
   "display_name": "Python 3",
   "language": "python",
   "name": "python3"
  },
  "language_info": {
   "codemirror_mode": {
    "name": "ipython",
    "version": 3
   },
   "file_extension": ".py",
   "mimetype": "text/x-python",
   "name": "python",
   "nbconvert_exporter": "python",
   "pygments_lexer": "ipython3",
   "version": "3.11.3"
  },
  "orig_nbformat": 4
 },
 "nbformat": 4,
 "nbformat_minor": 2
}
