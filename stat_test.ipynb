{
 "cells": [
  {
   "cell_type": "markdown",
   "metadata": {},
   "source": [
    "# Shapiro test for normality check"
   ]
  },
  {
   "cell_type": "code",
   "execution_count": 1,
   "metadata": {},
   "outputs": [
    {
     "name": "stdout",
     "output_type": "stream",
     "text": [
      "Requirement already satisfied: scipy in c:\\users\\hp\\appdata\\local\\programs\\python\\python311\\lib\\site-packages (1.11.2)\n",
      "Requirement already satisfied: numpy<1.28.0,>=1.21.6 in c:\\users\\hp\\appdata\\local\\programs\\python\\python311\\lib\\site-packages (from scipy) (1.24.3)\n",
      "Note: you may need to restart the kernel to use updated packages.\n"
     ]
    },
    {
     "name": "stderr",
     "output_type": "stream",
     "text": [
      "\n",
      "[notice] A new release of pip is available: 23.1.2 -> 23.2.1\n",
      "[notice] To update, run: python.exe -m pip install --upgrade pip\n"
     ]
    }
   ],
   "source": [
    "pip install scipy\n"
   ]
  },
  {
   "cell_type": "code",
   "execution_count": 5,
   "metadata": {},
   "outputs": [
    {
     "data": {
      "text/plain": [
       "ShapiroResult(statistic=0.423489511013031, pvalue=1.2099036439394695e-06)"
      ]
     },
     "execution_count": 5,
     "metadata": {},
     "output_type": "execute_result"
    }
   ],
   "source": [
    "# applying the shqapiro test for getting p and stat value \n",
    "from scipy.stats import shapiro\n",
    "data = [1.822,0,553,0.121,-0.055,-1.421,0.781,-1.442]\n",
    "shapiro(data)"
   ]
  },
  {
   "cell_type": "code",
   "execution_count": 7,
   "metadata": {},
   "outputs": [
    {
     "name": "stdout",
     "output_type": "stream",
     "text": [
      "stat =  0.423489511013031\n",
      "p =  1.2099036439394695e-06\n",
      "Data is not normal or probably is not gaussian\n"
     ]
    }
   ],
   "source": [
    "from scipy.stats import shapiro\n",
    "data = [1.822,0,553,0.121,-0.055,-1.421,0.781,-1.442]\n",
    "stat,p = shapiro(data)\n",
    "print(\"stat = \",stat)\n",
    "print(\"p = \",p)\n",
    "if p > 0.05:\n",
    "    print(\"Data is normal or probably gaussian\")\n",
    "else:\n",
    "     print(\"Data is not normal or probably is not gaussian\")"
   ]
  },
  {
   "cell_type": "code",
   "execution_count": 13,
   "metadata": {},
   "outputs": [
    {
     "data": {
      "text/plain": [
       "<Axes: >"
      ]
     },
     "execution_count": 13,
     "metadata": {},
     "output_type": "execute_result"
    },
    {
     "data": {
      "image/png": "[encoded data removed]",
      "text/plain": [
       "<Figure size 640x480 with 1 Axes>"
      ]
     },
     "metadata": {},
     "output_type": "display_data"
    }
   ],
   "source": [
    "import pandas as pd\n",
    "import numpy as np\n",
    "import seaborn as sns\n",
    "import matplotlib.pyplot as plt\n",
    "ship = sns.load_dataset(\"titanic\")\n",
    "# ship['age'].hist()\n",
    "sns.boxplot(ship['age'])"
   ]
  },
  {
   "cell_type": "code",
   "execution_count": 14,
   "metadata": {},
   "outputs": [
    {
     "name": "stdout",
     "output_type": "stream",
     "text": [
      "stat =  nan\n",
      "p =  1.0\n",
      "Data is normal or probably gaussian\n"
     ]
    }
   ],
   "source": [
    "import pandas as pd\n",
    "import numpy as np\n",
    "import seaborn as sns\n",
    "import matplotlib.pyplot as plt\n",
    "from scipy.stats import shapiro\n",
    "ship = sns.load_dataset(\"titanic\")\n",
    "stat,p = shapiro(ship['age'])\n",
    "print(\"stat = \",stat)\n",
    "print(\"p = \",p)\n",
    "if p > 0.05:\n",
    "    print(\"Data is normal or probably gaussian\")\n",
    "else:\n",
    "     print(\"Data is not normal or probably is not gaussian\")"
   ]
  },
  {
   "cell_type": "code",
   "execution_count": 23,
   "metadata": {},
   "outputs": [
    {
     "data": {
      "text/plain": [
       "survived         0\n",
       "pclass           0\n",
       "sex              0\n",
       "age            177\n",
       "sibsp            0\n",
       "parch            0\n",
       "fare             0\n",
       "embarked         2\n",
       "class            0\n",
       "who              0\n",
       "adult_male       0\n",
       "deck           688\n",
       "embark_town      2\n",
       "alive            0\n",
       "alone            0\n",
       "dtype: int64"
      ]
     },
     "execution_count": 23,
     "metadata": {},
     "output_type": "execute_result"
    }
   ],
   "source": [
    "# dropping all outliers\n",
    "import pandas as pd\n",
    "import numpy as np\n",
    "import seaborn as sns\n",
    "import matplotlib.pyplot as plt\n",
    "from scipy.stats import shapiro\n",
    "ship = sns.load_dataset(\"titanic\")\n",
    "ship.isnull().sum()\n",
    "# stat,p = shapiro(ship['age'])\n",
    "# print(\"stat = \",stat)\n",
    "# print(\"p = \",p)\n",
    "# if p > 0.05:\n",
    "#     print(\"Data is normal or probably gaussian\")\n",
    "# else:\n",
    "#      print(\"Data is not normal or probably is not gaussian\")"
   ]
  },
  {
   "cell_type": "code",
   "execution_count": 42,
   "metadata": {},
   "outputs": [
    {
     "name": "stdout",
     "output_type": "stream",
     "text": [
      "stat =  0.9906663298606873\n",
      "p =  0.28415897488594055\n",
      "Data is normal or probably gaussian\n"
     ]
    },
    {
     "data": {
      "image/png": "[encoded data removed]",
      "text/plain": [
       "<Figure size 640x480 with 1 Axes>"
      ]
     },
     "metadata": {},
     "output_type": "display_data"
    }
   ],
   "source": [
    "# dropping all outliers\n",
    "import pandas as pd\n",
    "import numpy as np\n",
    "import seaborn as sns\n",
    "import matplotlib.pyplot as plt\n",
    "from scipy.stats import shapiro\n",
    "ship = sns.load_dataset(\"titanic\")\n",
    "ship.isnull().sum()\n",
    "s1 = ship.dropna()\n",
    "\n",
    "sns.boxplot(x=s1['age'])\n",
    "stat,p = shapiro(s1['age'])\n",
    "print(\"stat = \",stat)\n",
    "print(\"p = \",p)\n",
    "if p > 0.05:\n",
    "    print(\"Data is normal or probably gaussian\")\n",
    "else:\n",
    "     print(\"Data is not normal or probably is not gaussian\")"
   ]
  },
  {
   "cell_type": "code",
   "execution_count": 49,
   "metadata": {},
   "outputs": [
    {
     "name": "stdout",
     "output_type": "stream",
     "text": [
      "stat =  0.7430529594421387\n",
      "p =  1.6486953687823121e-16\n",
      "Data is not normal or probably is not gaussian\n"
     ]
    }
   ],
   "source": [
    "# now checking for the fare in titanic data\n",
    "stat,p = shapiro(s1['fare'])\n",
    "print(\"stat = \",stat)\n",
    "print(\"p = \",p)\n",
    "if p > 0.05:\n",
    "    print(\"Data is normal or probably gaussian\")\n",
    "else:\n",
    "     print(\"Data is not normal or probably is not gaussian\")"
   ]
  },
  {
   "cell_type": "markdown",
   "metadata": {},
   "source": [
    "# 02 Correlation\n",
    "- H0: The two samples are independent\n",
    "- H1: There is a dependency between the samples\n",
    "  ## pearson's correlation co-efficient"
   ]
  },
  {
   "cell_type": "code",
   "execution_count": 62,
   "metadata": {},
   "outputs": [
    {
     "name": "stdout",
     "output_type": "stream",
     "text": [
      "stat =  0.7380952380952381 \n",
      "p =  0.03655276105286081\n",
      "probably dependent(correlation exists)\n"
     ]
    }
   ],
   "source": [
    "from scipy.stats import spearmanr \n",
    "data1 = [1.822,0,553,0.121,-0.055,-1.421,0.781,-1.442]\n",
    "data2 = [0.822,1,553,1.121,-1.055,-0.421,0.781,-0.442]\n",
    "stat, p = spearmanr(data1,data2)\n",
    "print(\"stat = \",(stat),\"\\np = \",(p))\n",
    "if p > 0.05:\n",
    "    print('probably independent')\n",
    "else:\n",
    "    print('probably dependent(correlation exists)')\n",
    "        \n"
   ]
  },
  {
   "cell_type": "code",
   "execution_count": 66,
   "metadata": {},
   "outputs": [
    {
     "name": "stdout",
     "output_type": "stream",
     "text": [
      "stat =  -0.09073036394094937 \n",
      "p =  0.22318591625857073\n",
      "probably independent\n"
     ]
    }
   ],
   "source": [
    "# applying on titanic data\n",
    "from scipy.stats import pearsonr \n",
    "data1 = s1['age']\n",
    "data2 = s1['fare']\n",
    "stat, p = pearsonr(data1,data2)\n",
    "print(\"stat = \",(stat),\"\\np = \",(p))\n",
    "if p > 0.05:\n",
    "    print('probably independent')\n",
    "else:\n",
    "    print('probably dependent(correlation exists)')\n",
    "        \n"
   ]
  },
  {
   "cell_type": "markdown",
   "metadata": {},
   "source": [
    "## spearmanr correlation"
   ]
  },
  {
   "cell_type": "code",
   "execution_count": 67,
   "metadata": {},
   "outputs": [
    {
     "name": "stdout",
     "output_type": "stream",
     "text": [
      "stat =  -0.07258447372826443 \n",
      "p =  0.33017748068844077\n",
      "probably independent\n"
     ]
    }
   ],
   "source": [
    "# applying on titanic data\n",
    "from scipy.stats import spearmanr \n",
    "data1 = s1['age']\n",
    "data2 = s1['fare']\n",
    "stat, p = spearmanr(data1,data2)\n",
    "print(\"stat = \",(stat),\"\\np = \",(p))\n",
    "if p > 0.05:\n",
    "    print('probably independent')\n",
    "else:\n",
    "    print('probably dependent(correlation exists)')\n",
    "        \n"
   ]
  },
  {
   "cell_type": "markdown",
   "metadata": {},
   "source": [
    "# 03- Chi-Squared\n",
    "Observations are used in calculation of the contigency table's are independent.Used categorical variables in this Statistical test\n",
    "- H0: The two samples are independent\n",
    "- H1: There is a dependency between the samples"
   ]
  },
  {
   "cell_type": "code",
   "execution_count": 70,
   "metadata": {},
   "outputs": [
    {
     "name": "stdout",
     "output_type": "stream",
     "text": [
      "stat =  0.27157465150403504 \n",
      "p =  0.873028283380073\n",
      "probably independent\n"
     ]
    }
   ],
   "source": [
    "from scipy.stats import chi2_contingency\n",
    "table = [[10,20,30],[6,9,17]]\n",
    "stat,p,dof,expected = chi2_contingency(table)\n",
    "print(\"stat = \",(stat),\"\\np = \",(p))\n",
    "if p > 0.05:\n",
    "      print('probably independent')\n",
    "else:\n",
    "    print('probably dependent')\n",
    "        \n"
   ]
  },
  {
   "cell_type": "markdown",
   "metadata": {},
   "source": [
    "# Parametric statistical hypothesis Test\n",
    "1. Student's T-Test   \n",
    "   \n",
    "   Test's whether the means of two independent samples are different\n",
    "   - H0:The means of two samples are equal\n",
    "   - H1:The means of two samples are unequal\n",
    "    "
   ]
  },
  {
   "cell_type": "code",
   "execution_count": 72,
   "metadata": {},
   "outputs": [
    {
     "name": "stdout",
     "output_type": "stream",
     "text": [
      "stat =  -0.0025578505881338367 \n",
      "p =  0.9979952232236613\n",
      "probably same distribution\n"
     ]
    }
   ],
   "source": [
    "from scipy.stats import ttest_ind\n",
    "data1 = [1.822,0,553,0.121,-0.055,-1.421,0.781,-1.442]\n",
    "data2 = [0.822,1,553,1.121,-1.055,-0.421,0.781,-0.442]\n",
    "stat, p = ttest_ind(data1,data2)\n",
    "print(\"stat = \",(stat),\"\\np = \",(p))\n",
    "if p > 0.05:\n",
    "    print('probably same distribution')\n",
    "else:\n",
    "    print('probably different distribution')\n",
    "        \n"
   ]
  },
  {
   "cell_type": "markdown",
   "metadata": {},
   "source": [
    "2.  Paired student's T-Test\n",
    "   - both variable have must same length"
   ]
  },
  {
   "cell_type": "code",
   "execution_count": 73,
   "metadata": {},
   "outputs": [
    {
     "name": "stdout",
     "output_type": "stream",
     "text": [
      "stat =  -0.7977240352174657 \n",
      "p =  0.4512388720016779\n",
      "probably same distribution\n"
     ]
    }
   ],
   "source": [
    "from scipy.stats import ttest_rel\n",
    "data1 = [1.822,0,553,0.121,-0.055,-1.421,0.781,-1.442]\n",
    "data2 = [0.822,1,553,1.121,-1.055,-0.421,0.781,-0.442]\n",
    "stat, p = ttest_rel(data1,data2)\n",
    "print(\"stat = \",(stat),\"\\np = \",(p))\n",
    "if p > 0.05:\n",
    "    print('probably same distribution')\n",
    "else:\n",
    "    print('probably different distribution')\n",
    "        \n"
   ]
  },
  {
   "cell_type": "markdown",
   "metadata": {},
   "source": [
    "# 04-Anova\n",
    "- H0:the means of samples are equal\n",
    "- one or more of means of samples are unequal\n",
    " - ## one way Anova"
   ]
  },
  {
   "cell_type": "code",
   "execution_count": 74,
   "metadata": {},
   "outputs": [
    {
     "name": "stdout",
     "output_type": "stream",
     "text": [
      "stat =  0.0017534755833787717 \n",
      "p =  0.9982482069971712\n",
      "probably same distribution\n"
     ]
    }
   ],
   "source": [
    "from scipy.stats import f_oneway\n",
    "data1 = [1.822,0,553,0.121,-0.055,-1.421,0.781,-1.442]\n",
    "data2 = [0.822,1,553,1.121,-1.055,-0.421,0.781,-0.442]\n",
    "data3 = [0.952,1,593,1.151,-1.095,-0.451,0.751,-0.452]\n",
    "stat, p = f_oneway(data1,data2,data3)\n",
    "print(\"stat = \",(stat),\"\\np = \",(p))\n",
    "if p > 0.05:\n",
    "    print('probably same distribution')\n",
    "else:\n",
    "    print('probably different distribution')\n",
    "        \n"
   ]
  },
  {
   "cell_type": "code",
   "execution_count": 76,
   "metadata": {},
   "outputs": [
    {
     "name": "stdout",
     "output_type": "stream",
     "text": [
      "stat =  137.59008141055892 \n",
      "p =  4.567357442512319e-49\n",
      "probably different distribution\n"
     ]
    }
   ],
   "source": [
    "# appyling on the titanic data\n",
    "from scipy.stats import f_oneway\n",
    "data1 = s1['age']\n",
    "data2 = s1['fare']\n",
    "data3 = s1['survived']\n",
    "stat, p = f_oneway(data1,data2,data3)\n",
    "print(\"stat = \",(stat),\"\\np = \",(p))\n",
    "if p > 0.05:\n",
    "    print('probably same distribution')\n",
    "else:\n",
    "    print('probably different distribution')\n",
    "        \n"
   ]
  }
 ],
 "metadata": {
  "kernelspec": {
   "display_name": "Python 3",
   "language": "python",
   "name": "python3"
  },
  "language_info": {
   "codemirror_mode": {
    "name": "ipython",
    "version": 3
   },
   "file_extension": ".py",
   "mimetype": "text/x-python",
   "name": "python",
   "nbconvert_exporter": "python",
   "pygments_lexer": "ipython3",
   "version": "3.11.3"
  },
  "orig_nbformat": 4
 },
 "nbformat": 4,
 "nbformat_minor": 2
}
