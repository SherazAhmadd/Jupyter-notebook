{
 "cells": [
  {
   "cell_type": "code",
   "execution_count": null,
   "id": "679f81ac",
   "metadata": {},
   "outputs": [],
   "source": [
    "# import the libraries\n",
    "import  pandas as pd\n",
    "import numpy as np\n",
    "s = pd.Series([1,3,5,7,9,11])\n",
    "s"
   ]
  },
  {
   "cell_type": "code",
   "execution_count": null,
   "id": "ab2dbc5d",
   "metadata": {},
   "outputs": [],
   "source": [
    "# creating random data frame\n",
    "date = pd.date_range(\"20230722\",periods=15)\n",
    "date\n",
    "df = pd.DataFrame(np.random.randn(15,5),index=date,columns=list(\"ABCDE\"))\n",
    "df"
   ]
  },
  {
   "cell_type": "code",
   "execution_count": null,
   "id": "90d5a1db",
   "metadata": {},
   "outputs": [],
   "source": [
    "# creating specifically data frame \n",
    "df1 = pd.DataFrame(\n",
    "    {\n",
    "        \"A\":1.0,\n",
    "        \"B\":pd.Timestamp(\"20230722\"),\n",
    "        \"C\":pd.Series(1,index=list(range(10)),dtype=\"float32\"),\n",
    "        \"D\":np.array([3]*10,dtype=\"int32\"),\n",
    "        \"E\":pd.Categorical([\"baby\",\"bacha\",\"boy\",\"men\",\"baby\",\"bacha\",\"boy\",\"men\",\"mai\",\"ur mai\"]),\n",
    "        \"F\":\"Male\",\n",
    "    })\n",
    "df1\n",
    "df1.dtypes\n",
    "df1\n"
   ]
  },
  {
   "cell_type": "code",
   "execution_count": null,
   "id": "e82f3180",
   "metadata": {},
   "outputs": [],
   "source": [
    "# viewing data only top 3 columns in table\n",
    "df1.head(3)"
   ]
  },
  {
   "cell_type": "code",
   "execution_count": null,
   "id": "04bce3cb",
   "metadata": {},
   "outputs": [],
   "source": [
    "# checking their indexes\n",
    "df1.index"
   ]
  },
  {
   "cell_type": "code",
   "execution_count": null,
   "id": "5f72eb0f",
   "metadata": {},
   "outputs": [],
   "source": [
    "#converting to numpy array's \n",
    "df1.to_numpy()"
   ]
  },
  {
   "cell_type": "code",
   "execution_count": null,
   "id": "af4c28f4",
   "metadata": {},
   "outputs": [],
   "source": [
    "# describing the data in statistically form\n",
    "df1.describe()"
   ]
  },
  {
   "cell_type": "code",
   "execution_count": null,
   "id": "5fd80413",
   "metadata": {},
   "outputs": [],
   "source": [
    "# transpose\n",
    "df1.T"
   ]
  },
  {
   "cell_type": "code",
   "execution_count": null,
   "id": "6e7529b5",
   "metadata": {},
   "outputs": [],
   "source": [
    "# ---> sorting via index in ascending\n",
    "# df1.sort_index(axis=0,ascending=True)\n",
    "# ---> sorting via index in descending\n",
    "df1.sort_index(axis=0,ascending=False)"
   ]
  },
  {
   "cell_type": "code",
   "execution_count": null,
   "id": "3e7194d4",
   "metadata": {},
   "outputs": [],
   "source": [
    "# sorting via values in ascending \n",
    "df1.sort_values(by=\"E\",ascending=True)"
   ]
  },
  {
   "cell_type": "code",
   "execution_count": null,
   "id": "e66f60fe",
   "metadata": {},
   "outputs": [],
   "source": [
    "# selection through indexing\n",
    "df1[0:5]"
   ]
  },
  {
   "cell_type": "code",
   "execution_count": null,
   "id": "daacec70",
   "metadata": {},
   "outputs": [],
   "source": [
    "# accessing the data through specific date\n",
    "df.loc[date[4]]"
   ]
  },
  {
   "cell_type": "code",
   "execution_count": null,
   "id": "b2365131",
   "metadata": {},
   "outputs": [],
   "source": [
    "#slicing\n",
    "df.loc[:,[\"A\",\"B\"]]"
   ]
  },
  {
   "cell_type": "code",
   "execution_count": null,
   "id": "e63e92e4",
   "metadata": {},
   "outputs": [],
   "source": [
    "# accessing the data through specific date and coloumn\n",
    "df.loc[\"20230722\":\"20230730\",[\"A\",\"B\"]]"
   ]
  },
  {
   "cell_type": "code",
   "execution_count": null,
   "metadata": {},
   "outputs": [],
   "source": [
    "# getting specifically value on specific coloumn\n",
    "df.loc[date[1:5],\"A\"]"
   ]
  },
  {
   "cell_type": "code",
   "execution_count": null,
   "id": "e77fce69",
   "metadata": {},
   "outputs": [],
   "source": [
    "# using boolean operators\n",
    "df[df[\"A\"]>0]"
   ]
  },
  {
   "cell_type": "code",
   "execution_count": null,
   "id": "77529c77",
   "metadata": {},
   "outputs": [],
   "source": [
    "# adding new column in data and getting mean of single single row\n",
    "df[\"mean\"] = (df[\"A\"] + df[\"B\"] + df[\"C\"] + df[\"D\"] + df[\"E\"])/5\n",
    "df"
   ]
  },
  {
   "cell_type": "code",
   "execution_count": null,
   "id": "88426638",
   "metadata": {},
   "outputs": [],
   "source": []
  },
  {
   "cell_type": "code",
   "execution_count": null,
   "id": "befa88b3",
   "metadata": {},
   "outputs": [],
   "source": []
  },
  {
   "cell_type": "code",
   "execution_count": null,
   "id": "d8486ddd",
   "metadata": {},
   "outputs": [],
   "source": []
  },
  {
   "cell_type": "code",
   "execution_count": null,
   "id": "9fbae33b",
   "metadata": {},
   "outputs": [],
   "source": []
  },
  {
   "cell_type": "code",
   "execution_count": null,
   "id": "57a417ae",
   "metadata": {},
   "outputs": [],
   "source": []
  },
  {
   "cell_type": "code",
   "execution_count": null,
   "id": "6b7e6cbe",
   "metadata": {},
   "outputs": [],
   "source": []
  }
 ],
 "metadata": {
  "kernelspec": {
   "display_name": "Python 3 (ipykernel)",
   "language": "python",
   "name": "python3"
  },
  "language_info": {
   "codemirror_mode": {
    "name": "ipython",
    "version": 3
   },
   "file_extension": ".py",
   "mimetype": "text/x-python",
   "name": "python",
   "nbconvert_exporter": "python",
   "pygments_lexer": "ipython3",
   "version": "3.11.3"
  }
 },
 "nbformat": 4,
 "nbformat_minor": 5
}
