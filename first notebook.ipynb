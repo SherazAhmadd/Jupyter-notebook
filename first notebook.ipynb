{
 "cells": [
  {
   "cell_type": "markdown",
   "id": "4f24b6e8",
   "metadata": {},
   "source": [
    "# python:\n",
    "**first code**"
   ]
  },
  {
   "cell_type": "code",
   "execution_count": 7,
   "id": "18282d9e",
   "metadata": {},
   "outputs": [
    {
     "name": "stdout",
     "output_type": "stream",
     "text": [
      "hello\n"
     ]
    }
   ],
   "source": [
    "print(\"hello\")"
   ]
  },
  {
   "cell_type": "markdown",
   "id": "7ea44695",
   "metadata": {},
   "source": [
    "**01-operators**"
   ]
  },
  {
   "cell_type": "code",
   "execution_count": 11,
   "id": "e28c3b49",
   "metadata": {},
   "outputs": [
    {
     "name": "stdout",
     "output_type": "stream",
     "text": [
      "the addition of 5+3 is: 8\n",
      "2\n",
      "15\n",
      "1.6666666666666667\n",
      "1\n",
      "16.5\n"
     ]
    }
   ],
   "source": [
    "#addition\n",
    "print(\"the addition of 5+3 is:\",5+3) \n",
    "# substruction\n",
    "print(5-3)  \n",
    "# multiplication\n",
    "print(5*3)    \n",
    "# division in floating number\n",
    "print(5/3)     \n",
    "# division in integer number\n",
    "print(5//3)    \n",
    "#*PEMDAS rule --> parenthesis exponent multiplication division addition substruction*\n",
    "print(3**2/2+6*2)\n"
   ]
  },
  {
   "cell_type": "markdown",
   "id": "97bef290",
   "metadata": {},
   "source": [
    "**02-strings**"
   ]
  },
  {
   "cell_type": "code",
   "execution_count": 12,
   "id": "7c3825ac",
   "metadata": {
    "collapsed": true
   },
   "outputs": [
    {
     "name": "stdout",
     "output_type": "stream",
     "text": [
      "test for single quotes\n",
      "test for double quotes\n",
      "test for triple quotes\n",
      "what's up buddy\n"
     ]
    }
   ],
   "source": [
    "print ('test for single quotes')\n",
    "print (\"test for double quotes\")\n",
    "print ('''test for triple quotes''')\n",
    "#case#1\n",
    "print(\"what's up buddy\")\n"
   ]
  },
  {
   "cell_type": "markdown",
   "id": "3c12d7ff",
   "metadata": {},
   "source": [
    "**03-varibles**"
   ]
  },
  {
   "cell_type": "code",
   "execution_count": 13,
   "id": "f230a2d0",
   "metadata": {},
   "outputs": [
    {
     "name": "stdout",
     "output_type": "stream",
     "text": [
      "5\n",
      "6.5\n",
      "hellow babes\n",
      "<class 'str'>\n",
      "---------------------\n",
      "mangoes\n",
      "oranges\n",
      "banana\n",
      "526434\n",
      "526434\n",
      "------------------------------\n",
      "what is your id: \n",
      "52352\n",
      "enter your message: \n",
      "sheryy\n",
      "printing the output here\n",
      "-------------------------\n",
      "526434\n",
      "sheryy\n",
      "52352\n"
     ]
    }
   ],
   "source": [
    "# variable declaration \n",
    "# varible_name assignment operator value/string or character\n",
    "x = 5\n",
    "print(x)\n",
    "x = 6.5\n",
    "print(x)\n",
    "x = \"hellow babes\"\n",
    "print(x)\n",
    "# how to find the type of variable\n",
    "type(x)\n",
    "print(type(x))\n",
    "print(\"---------------------\")\n",
    "fruit_type = \"mangoes\\noranges\\nbanana\"\n",
    "print(fruit_type)\n",
    "# \\n work as endl\n",
    "roll_no = 526434\n",
    "print(roll_no)\n",
    "#  del keyword is delete the keyword\n",
    "# del roll_no\n",
    "print(roll_no)\n",
    "print(\"------------------------------\")\n",
    "# taking input from user in variables\n",
    "id_no=input(\"what is your id: \\n\")\n",
    "greeting=input(\"enter your message: \\n\")\n",
    "print(\"printing the output here\")\n",
    "print(\"-------------------------\")\n",
    "print(roll_no)\n",
    "print(greeting)\n",
    "print(id_no)\n"
   ]
  },
  {
   "cell_type": "markdown",
   "id": "b9bd2cb7",
   "metadata": {},
   "source": [
    "**04-conditional**"
   ]
  },
  {
   "cell_type": "code",
   "execution_count": 14,
   "id": "4d33d923",
   "metadata": {},
   "outputs": [
    {
     "name": "stdout",
     "output_type": "stream",
     "text": [
      "the greater operator:\n",
      " True\n",
      "the lessier operator:\n",
      " False\n",
      "exact equal to:\n",
      " False\n",
      "not equal to:\n",
      " True\n",
      "less then or euqal to:\n",
      " False\n",
      "greater then or equal to:\n",
      " True\n",
      "----------------------------------\n",
      "enter your age\n",
      "21\n",
      "<class 'str'>\n",
      "<class 'float'>\n",
      "True\n"
     ]
    }
   ],
   "source": [
    "#using conditional operators\n",
    "# ==,!=,<,>,<=,>=\n",
    "print(\"the greater operator:\\n\",10>9)\n",
    "print(\"the lessier operator:\\n\",10<9)\n",
    "print(\"exact equal to:\\n\",10==9)\n",
    "print(\"not equal to:\\n\",10!=9)\n",
    "print(\"less then or euqal to:\\n\",10<=9)\n",
    "print(\"greater then or equal to:\\n\",10>=9)\n",
    "print(\"----------------------------------\")\n",
    "\n",
    "#taking input with condition operator\n",
    "allow=5\n",
    "age=(input(\"enter your age\\n\"))\n",
    "print(type(age))\n",
    "#type conversion from string to int\n",
    "age = float(age)\n",
    "print(type(age))\n",
    "print(age>allow)\n"
   ]
  },
  {
   "cell_type": "markdown",
   "id": "853d79f3",
   "metadata": {},
   "source": [
    "**05-if_statments**"
   ]
  },
  {
   "cell_type": "code",
   "execution_count": 16,
   "id": "0aad88e2",
   "metadata": {},
   "outputs": [
    {
     "name": "stdout",
     "output_type": "stream",
     "text": [
      "what is  your age: 25\n",
      "you can study in school\n"
     ]
    }
   ],
   "source": [
    "school_required = 5\n",
    "age = int(input(\"what is  your age: \"))\n",
    "# print(type(age))\n",
    "if age >= school_required: \n",
    "    print('you can study in school')\n",
    "elif age < school_required:\n",
    "    print('you are too young to go school')\n",
    "elif age == school_required:\n",
    "    print('this is right time to go school')\n",
    "else:\n",
    "    print(\"none\")\n",
    "\n",
    "    \n",
    "\n",
    "    #elif ---> is else-if statments in python\n",
    "    # if you want more than one condition, use elif statment"
   ]
  },
  {
   "cell_type": "markdown",
   "id": "7e76b7b4",
   "metadata": {},
   "source": [
    "**06-functions**"
   ]
  },
  {
   "cell_type": "code",
   "execution_count": 17,
   "id": "5f79a1a1",
   "metadata": {},
   "outputs": [
    {
     "name": "stdout",
     "output_type": "stream",
     "text": [
      "sheryy is veryy cool guy\n",
      "sheryy is veryy cool guy\n",
      "sheryy is veryy cool guy\n",
      "sheryy is veryy cool guy\n",
      "---------------------\n",
      "16.0\n",
      "...........................\n",
      "enter your marks: \n",
      "780\n",
      "tu top hai putr\n"
     ]
    }
   ],
   "source": [
    "# defining the function is following\n",
    "# def is keyword that define the function in python \n",
    "def setdata():\n",
    "    text=\"sheryy is veryy cool guy\"\n",
    "    print(text)\n",
    "    print(text)\n",
    "    print(text)\n",
    "    print(text)\n",
    "    # calling the function\n",
    "setdata()\n",
    "print(\"---------------------\")\n",
    "#  function with arguments\n",
    "def enput(age):\n",
    "    age= age + 10\n",
    "    print (float(age))\n",
    "enput(6)\n",
    "print(\"...........................\")\n",
    "# function with the conditional statment\n",
    "def grades(temp):\n",
    "    total = 100\n",
    "    if temp == total:\n",
    "        print(\"you get full marks\")\n",
    "    elif temp < total:\n",
    "        print(\"you got less marks\")\n",
    "    elif temp > total:\n",
    "        print(\"tu top hai putr\")\n",
    "\n",
    "marks = int(input(\"enter your marks: \\n\")) \n",
    "grades(marks)\n"
   ]
  },
  {
   "cell_type": "markdown",
   "id": "35ba4d0a",
   "metadata": {},
   "source": [
    "**07-loops**"
   ]
  },
  {
   "cell_type": "code",
   "execution_count": 18,
   "id": "499e81b0",
   "metadata": {},
   "outputs": [
    {
     "name": "stdout",
     "output_type": "stream",
     "text": [
      "enter many time you want to print the sheryy\n",
      "2\n",
      "<class 'int'>\n",
      "sheryy\n",
      "sheryy\n",
      "5\n",
      "6\n",
      "7\n",
      "8\n",
      "9\n",
      "-----------------\n",
      "m\n",
      "t\n",
      "w\n",
      "t\n",
      "f\n",
      "s\n"
     ]
    }
   ],
   "source": [
    "#while loop\n",
    "x=int(input(\"enter many time you want to print the sheryy\\n\"))\n",
    "print(type(x))\n",
    "i=0\n",
    "while (i<x):\n",
    "    print(\"sheryy\")\n",
    "    i=i+1\n",
    "#for loop\n",
    "for i in range(5,10):\n",
    "    print(i)\n",
    "    #end=\"\"  ---> is keyword that print data in same line\n",
    "print(\"-----------------\")\n",
    "days = [\"m\",\"t\",\"w\",\"t\",\"f\",\"sat\",\"s\"]\n",
    "for d in days:\n",
    "    # if(d==\"sat\")break:\n",
    "    if(d==\"sat\"): continue\n",
    "    print(d)"
   ]
  }
 ],
 "metadata": {
  "kernelspec": {
   "display_name": "Python 3 (ipykernel)",
   "language": "python",
   "name": "python3"
  },
  "language_info": {
   "codemirror_mode": {
    "name": "ipython",
    "version": 3
   },
   "file_extension": ".py",
   "mimetype": "text/x-python",
   "name": "python",
   "nbconvert_exporter": "python",
   "pygments_lexer": "ipython3",
   "version": "3.11.4"
  }
 },
 "nbformat": 4,
 "nbformat_minor": 5
}
