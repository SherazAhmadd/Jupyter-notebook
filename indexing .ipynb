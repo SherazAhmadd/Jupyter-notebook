{
 "cells": [
  {
   "cell_type": "markdown",
   "id": "35d48f9a",
   "metadata": {},
   "source": [
    "make a string"
   ]
  },
  {
   "cell_type": "code",
   "execution_count": 1,
   "id": "0b44b807",
   "metadata": {},
   "outputs": [
    {
     "data": {
      "text/plain": [
       "'samosa , pakora '"
      ]
     },
     "execution_count": 1,
     "metadata": {},
     "output_type": "execute_result"
    }
   ],
   "source": [
    "a = 'samosa , pakora '\n",
    "a"
   ]
  },
  {
   "cell_type": "markdown",
   "id": "bd4f7eab",
   "metadata": {},
   "source": [
    "indexing "
   ]
  },
  {
   "cell_type": "code",
   "execution_count": 2,
   "id": "b9203b81",
   "metadata": {},
   "outputs": [
    {
     "data": {
      "text/plain": [
       "'samosa , pakora '"
      ]
     },
     "execution_count": 2,
     "metadata": {},
     "output_type": "execute_result"
    }
   ],
   "source": [
    "a\n"
   ]
  },
  {
   "cell_type": "code",
   "execution_count": 4,
   "id": "b2163589",
   "metadata": {},
   "outputs": [
    {
     "data": {
      "text/plain": [
       "'s'"
      ]
     },
     "execution_count": 4,
     "metadata": {},
     "output_type": "execute_result"
    }
   ],
   "source": [
    "a[0]"
   ]
  },
  {
   "cell_type": "markdown",
   "id": "bed85a8b",
   "metadata": {},
   "source": [
    " **indexing from - to** "
   ]
  },
  {
   "cell_type": "code",
   "execution_count": 6,
   "id": "516d03e9",
   "metadata": {},
   "outputs": [],
   "source": [
    "# using [ ] operator for finding index as c++"
   ]
  },
  {
   "cell_type": "code",
   "execution_count": 5,
   "id": "aca2df02",
   "metadata": {},
   "outputs": [
    {
     "data": {
      "text/plain": [
       "'samosa'"
      ]
     },
     "execution_count": 5,
     "metadata": {},
     "output_type": "execute_result"
    }
   ],
   "source": [
    "a[0:6]"
   ]
  },
  {
   "cell_type": "code",
   "execution_count": 9,
   "id": "1b0ad8da",
   "metadata": {},
   "outputs": [],
   "source": [
    "# find length of total string "
   ]
  },
  {
   "cell_type": "code",
   "execution_count": 11,
   "id": "2894b392",
   "metadata": {},
   "outputs": [
    {
     "data": {
      "text/plain": [
       "16"
      ]
     },
     "execution_count": 11,
     "metadata": {},
     "output_type": "execute_result"
    }
   ],
   "source": [
    "len(a)"
   ]
  },
  {
   "cell_type": "markdown",
   "id": "162d39e4",
   "metadata": {},
   "source": [
    "**strings methods**"
   ]
  },
  {
   "cell_type": "code",
   "execution_count": 24,
   "id": "c44d5167",
   "metadata": {},
   "outputs": [
    {
     "data": {
      "text/plain": [
       "'bbbooootii'"
      ]
     },
     "execution_count": 24,
     "metadata": {},
     "output_type": "execute_result"
    }
   ],
   "source": [
    "food = \"bbbooootii\"\n",
    "food"
   ]
  },
  {
   "cell_type": "code",
   "execution_count": 14,
   "id": "3a344228",
   "metadata": {},
   "outputs": [],
   "source": [
    "# capital first letter"
   ]
  },
  {
   "cell_type": "code",
   "execution_count": 13,
   "id": "04ddc7ec",
   "metadata": {},
   "outputs": [
    {
     "data": {
      "text/plain": [
       "'Roti'"
      ]
     },
     "execution_count": 13,
     "metadata": {},
     "output_type": "execute_result"
    }
   ],
   "source": [
    "food.capitalize()"
   ]
  },
  {
   "cell_type": "code",
   "execution_count": 15,
   "id": "e95bdf9d",
   "metadata": {},
   "outputs": [],
   "source": [
    "# upper case"
   ]
  },
  {
   "cell_type": "code",
   "execution_count": 16,
   "id": "4f416d0f",
   "metadata": {},
   "outputs": [
    {
     "data": {
      "text/plain": [
       "'ROTI'"
      ]
     },
     "execution_count": 16,
     "metadata": {},
     "output_type": "execute_result"
    }
   ],
   "source": [
    "food.upper()"
   ]
  },
  {
   "cell_type": "code",
   "execution_count": 17,
   "id": "97514038",
   "metadata": {},
   "outputs": [],
   "source": [
    "# lower case"
   ]
  },
  {
   "cell_type": "code",
   "execution_count": 18,
   "id": "86a48819",
   "metadata": {},
   "outputs": [
    {
     "data": {
      "text/plain": [
       "'roti'"
      ]
     },
     "execution_count": 18,
     "metadata": {},
     "output_type": "execute_result"
    }
   ],
   "source": [
    "food.lower()"
   ]
  },
  {
   "cell_type": "code",
   "execution_count": 19,
   "id": "bf70e3d1",
   "metadata": {},
   "outputs": [],
   "source": [
    "#replace string letter"
   ]
  },
  {
   "cell_type": "code",
   "execution_count": 22,
   "id": "08b34b60",
   "metadata": {},
   "outputs": [
    {
     "data": {
      "text/plain": [
       "'bbboooooti'"
      ]
     },
     "execution_count": 22,
     "metadata": {},
     "output_type": "execute_result"
    }
   ],
   "source": [
    "food.replace(\"ro\",\"bbbooooo\")"
   ]
  },
  {
   "cell_type": "code",
   "execution_count": null,
   "id": "7ad2a895",
   "metadata": {},
   "outputs": [],
   "source": [
    "# finding individual letter in a string"
   ]
  },
  {
   "cell_type": "code",
   "execution_count": 28,
   "id": "fbb66d66",
   "metadata": {},
   "outputs": [
    {
     "data": {
      "text/plain": [
       "0"
      ]
     },
     "execution_count": 28,
     "metadata": {},
     "output_type": "execute_result"
    }
   ],
   "source": [
    "food.find(\"b\")"
   ]
  },
  {
   "cell_type": "code",
   "execution_count": null,
   "id": "cf52de48",
   "metadata": {},
   "outputs": [],
   "source": [
    "# counting specific letter(dna/rna sequences)"
   ]
  },
  {
   "cell_type": "code",
   "execution_count": 29,
   "id": "a462d765",
   "metadata": {},
   "outputs": [
    {
     "data": {
      "text/plain": [
       "4"
      ]
     },
     "execution_count": 29,
     "metadata": {},
     "output_type": "execute_result"
    }
   ],
   "source": [
    "food.count(\"o\")"
   ]
  }
 ],
 "metadata": {
  "kernelspec": {
   "display_name": "Python 3 (ipykernel)",
   "language": "python",
   "name": "python3"
  },
  "language_info": {
   "codemirror_mode": {
    "name": "ipython",
    "version": 3
   },
   "file_extension": ".py",
   "mimetype": "text/x-python",
   "name": "python",
   "nbconvert_exporter": "python",
   "pygments_lexer": "ipython3",
   "version": "3.11.4"
  }
 },
 "nbformat": 4,
 "nbformat_minor": 5
}
