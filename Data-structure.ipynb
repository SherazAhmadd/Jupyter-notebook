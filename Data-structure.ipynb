{
 "cells": [
  {
   "cell_type": "markdown",
   "id": "b0a4d4b1",
   "metadata": {},
   "source": [
    "# data structure\n",
    "## four types \n",
    "###  1-tuple\n",
    "###  2-list\n",
    "###  3-dictionaries\n",
    "###  4-set"
   ]
  },
  {
   "cell_type": "markdown",
   "id": "4f34afe8",
   "metadata": {},
   "source": [
    "# tuple\n",
    "- ordered elements \n",
    "- closed in ()  braces\n",
    "- immutable\n",
    "- diff kinda data can be stored\n"
   ]
  },
  {
   "cell_type": "code",
   "execution_count": 12,
   "id": "3a4802e2",
   "metadata": {},
   "outputs": [
    {
     "data": {
      "text/plain": [
       "('sheryy', 2, True, 23.4, 'sheryy')"
      ]
     },
     "execution_count": 12,
     "metadata": {},
     "output_type": "execute_result"
    }
   ],
   "source": [
    "# for eg\n",
    "tup1 = (\"sheryy\",2, True, 23.4,\"sheryy\")\n",
    "tup1"
   ]
  },
  {
   "cell_type": "code",
   "execution_count": 6,
   "id": "e792df68",
   "metadata": {},
   "outputs": [
    {
     "data": {
      "text/plain": [
       "4"
      ]
     },
     "execution_count": 6,
     "metadata": {},
     "output_type": "execute_result"
    }
   ],
   "source": [
    "len(tup1)"
   ]
  },
  {
   "cell_type": "code",
   "execution_count": 13,
   "id": "d3a8c94b",
   "metadata": {},
   "outputs": [
    {
     "data": {
      "text/plain": [
       "2"
      ]
     },
     "execution_count": 13,
     "metadata": {},
     "output_type": "execute_result"
    }
   ],
   "source": [
    "# using count function\n",
    "element = \"sheryy\"\n",
    "tup1.count(element)"
   ]
  },
  {
   "cell_type": "code",
   "execution_count": 19,
   "id": "31b182fa",
   "metadata": {},
   "outputs": [
    {
     "data": {
      "text/plain": [
       "(20, 455, 23, 7, 85, 50, 37, 61)"
      ]
     },
     "execution_count": 19,
     "metadata": {},
     "output_type": "execute_result"
    }
   ],
   "source": [
    "tup2=(20,455,23,7,85,50,37,61)\n",
    "tup2"
   ]
  },
  {
   "cell_type": "code",
   "execution_count": 20,
   "id": "968f56c9",
   "metadata": {},
   "outputs": [
    {
     "data": {
      "text/plain": [
       "tuple"
      ]
     },
     "execution_count": 20,
     "metadata": {},
     "output_type": "execute_result"
    }
   ],
   "source": [
    "type(tup2)"
   ]
  },
  {
   "cell_type": "code",
   "execution_count": 26,
   "id": "912b7650",
   "metadata": {},
   "outputs": [
    {
     "data": {
      "text/plain": [
       "('sheryy', 2, True, 23.4, 'sheryy', 20, 455, 23, 7, 85, 50, 37, 61)"
      ]
     },
     "execution_count": 26,
     "metadata": {},
     "output_type": "execute_result"
    }
   ],
   "source": [
    "# concatenate two tuples\n",
    "tup3 = tup1 + tup2\n",
    "tup3"
   ]
  },
  {
   "cell_type": "code",
   "execution_count": 27,
   "id": "33234013",
   "metadata": {},
   "outputs": [
    {
     "data": {
      "text/plain": [
       "23"
      ]
     },
     "execution_count": 27,
     "metadata": {},
     "output_type": "execute_result"
    }
   ],
   "source": [
    "# indexing\n",
    "tup2[2]"
   ]
  },
  {
   "cell_type": "code",
   "execution_count": 28,
   "id": "dc9ca69e",
   "metadata": {},
   "outputs": [
    {
     "data": {
      "text/plain": [
       "(20, 455, 23, 7)"
      ]
     },
     "execution_count": 28,
     "metadata": {},
     "output_type": "execute_result"
    }
   ],
   "source": [
    "tup2[0:4]"
   ]
  },
  {
   "cell_type": "markdown",
   "id": "5e9fa2a2",
   "metadata": {},
   "source": [
    "---"
   ]
  },
  {
   "cell_type": "markdown",
   "id": "1d318c1c",
   "metadata": {},
   "source": [
    "# list\n",
    "- ordered elements\n",
    "- closed in [] braces\n",
    "- mutable\n",
    "- diff kinda data can be stored"
   ]
  },
  {
   "cell_type": "code",
   "execution_count": 33,
   "id": "8b187bdc",
   "metadata": {},
   "outputs": [
    {
     "data": {
      "text/plain": [
       "[2, 'yessss', 2.55, True]"
      ]
     },
     "execution_count": 33,
     "metadata": {},
     "output_type": "execute_result"
    }
   ],
   "source": [
    "list1 = [2,\"yessss\",2.55,True]\n",
    "list1"
   ]
  },
  {
   "cell_type": "code",
   "execution_count": 34,
   "id": "703181e3",
   "metadata": {},
   "outputs": [
    {
     "data": {
      "text/plain": [
       "['codanics', 'goal', 10, True]"
      ]
     },
     "execution_count": 34,
     "metadata": {},
     "output_type": "execute_result"
    }
   ],
   "source": [
    "list2 = [\"codanics\",\"goal\",10,True]\n",
    "list2"
   ]
  },
  {
   "cell_type": "code",
   "execution_count": 35,
   "id": "38e404b7",
   "metadata": {},
   "outputs": [
    {
     "data": {
      "text/plain": [
       "list"
      ]
     },
     "execution_count": 35,
     "metadata": {},
     "output_type": "execute_result"
    }
   ],
   "source": [
    "type(list1)"
   ]
  },
  {
   "cell_type": "code",
   "execution_count": 37,
   "id": "b42b5cc1",
   "metadata": {},
   "outputs": [
    {
     "data": {
      "text/plain": [
       "[2, 'yessss', 2.55, True, 'codanics', 'goal', 10, True]"
      ]
     },
     "execution_count": 37,
     "metadata": {},
     "output_type": "execute_result"
    }
   ],
   "source": [
    "# concatencate two lists\n",
    "list1 + list2"
   ]
  },
  {
   "cell_type": "code",
   "execution_count": 38,
   "id": "6213f7f4",
   "metadata": {},
   "outputs": [
    {
     "data": {
      "text/plain": [
       "[2, 'yessss', 2.55, True, 2, 'yessss', 2.55, True, 2, 'yessss', 2.55, True]"
      ]
     },
     "execution_count": 38,
     "metadata": {},
     "output_type": "execute_result"
    }
   ],
   "source": [
    "# replication any list\n",
    "list1*3"
   ]
  },
  {
   "cell_type": "code",
   "execution_count": 42,
   "id": "2e38199c",
   "metadata": {},
   "outputs": [
    {
     "data": {
      "text/plain": [
       "[2, 'yessss', 2.55, True, 'addeddd', 'addeddd', 'addeddd']"
      ]
     },
     "execution_count": 42,
     "metadata": {},
     "output_type": "execute_result"
    }
   ],
   "source": [
    "# adding any element by using apend function\n",
    "list1.append(\"addeddd\")\n",
    "list1"
   ]
  },
  {
   "cell_type": "code",
   "execution_count": 48,
   "id": "6971b9bd",
   "metadata": {},
   "outputs": [
    {
     "data": {
      "text/plain": [
       "[2, 'yessss', 2.55, True, 'addeddd']"
      ]
     },
     "execution_count": 48,
     "metadata": {},
     "output_type": "execute_result"
    }
   ],
   "source": [
    "# removing any element from list using remove function\n",
    "list1.remove(\"addeddd\")\n",
    "list1"
   ]
  },
  {
   "cell_type": "code",
   "execution_count": 56,
   "id": "c6dfeeb2",
   "metadata": {},
   "outputs": [],
   "source": [
    "list1.insert(True,\"added\")"
   ]
  },
  {
   "cell_type": "code",
   "execution_count": 58,
   "id": "bdae38c9",
   "metadata": {},
   "outputs": [
    {
     "data": {
      "text/plain": [
       "[2, 'added', 'yessss', 2.55]"
      ]
     },
     "execution_count": 58,
     "metadata": {},
     "output_type": "execute_result"
    }
   ],
   "source": [
    "list1"
   ]
  },
  {
   "cell_type": "code",
   "execution_count": 59,
   "id": "24d799d7",
   "metadata": {},
   "outputs": [
    {
     "data": {
      "text/plain": [
       "[20, 455, 23, 7, 85, 50, 37, 61]"
      ]
     },
     "execution_count": 59,
     "metadata": {},
     "output_type": "execute_result"
    }
   ],
   "source": [
    "list3 = [20, 455, 23, 7, 85, 50, 37, 61]\n",
    "list3"
   ]
  },
  {
   "cell_type": "code",
   "execution_count": 60,
   "id": "5e38141e",
   "metadata": {},
   "outputs": [
    {
     "data": {
      "text/plain": [
       "455"
      ]
     },
     "execution_count": 60,
     "metadata": {},
     "output_type": "execute_result"
    }
   ],
   "source": [
    "max(list3)"
   ]
  },
  {
   "cell_type": "code",
   "execution_count": 61,
   "id": "ec2bf78e",
   "metadata": {},
   "outputs": [
    {
     "data": {
      "text/plain": [
       "7"
      ]
     },
     "execution_count": 61,
     "metadata": {},
     "output_type": "execute_result"
    }
   ],
   "source": [
    "min(list3)"
   ]
  },
  {
   "cell_type": "code",
   "execution_count": 64,
   "id": "bb66eede",
   "metadata": {
    "scrolled": true
   },
   "outputs": [
    {
     "data": {
      "text/plain": [
       "8"
      ]
     },
     "execution_count": 64,
     "metadata": {},
     "output_type": "execute_result"
    }
   ],
   "source": [
    "len(list3)"
   ]
  },
  {
   "cell_type": "code",
   "execution_count": 65,
   "id": "9f7f2c65",
   "metadata": {},
   "outputs": [
    {
     "data": {
      "text/plain": [
       "[20, 455, 23, 7, 85, 50, 37, 61, 800]"
      ]
     },
     "execution_count": 65,
     "metadata": {},
     "output_type": "execute_result"
    }
   ],
   "source": [
    "list3.append(800)\n",
    "list3"
   ]
  },
  {
   "cell_type": "code",
   "execution_count": 69,
   "id": "948e1621",
   "metadata": {},
   "outputs": [
    {
     "data": {
      "text/plain": [
       "[7, 20, 23, 37, 50, 61, 85, 455, 800]"
      ]
     },
     "execution_count": 69,
     "metadata": {},
     "output_type": "execute_result"
    }
   ],
   "source": [
    "# sorting\n",
    "list3.sort()\n",
    "list3"
   ]
  },
  {
   "cell_type": "code",
   "execution_count": 70,
   "id": "5e50dde3",
   "metadata": {},
   "outputs": [
    {
     "data": {
      "text/plain": [
       "[2,\n",
       " 'added',\n",
       " 'yessss',\n",
       " 2.55,\n",
       " 'codanics',\n",
       " 'goal',\n",
       " 10,\n",
       " True,\n",
       " 7,\n",
       " 20,\n",
       " 23,\n",
       " 37,\n",
       " 50,\n",
       " 61,\n",
       " 85,\n",
       " 455,\n",
       " 800]"
      ]
     },
     "execution_count": 70,
     "metadata": {},
     "output_type": "execute_result"
    }
   ],
   "source": [
    "list1 + list2 + list3"
   ]
  },
  {
   "cell_type": "markdown",
   "id": "cf0f1e1a",
   "metadata": {},
   "source": [
    "---"
   ]
  },
  {
   "cell_type": "markdown",
   "id": "f46e7b8f",
   "metadata": {},
   "source": [
    "# dictionaries\n",
    "- unordered data\n",
    "- closed in curly bracses {}\n",
    "- mutable\n",
    "- it have keys and their values connected with :"
   ]
  },
  {
   "cell_type": "code",
   "execution_count": 73,
   "id": "eb17f502",
   "metadata": {},
   "outputs": [
    {
     "data": {
      "text/plain": [
       "{'samosa': 50, 'pakora': 70, 'rolls': 20, 'tikki': 40}"
      ]
     },
     "execution_count": 73,
     "metadata": {},
     "output_type": "execute_result"
    }
   ],
   "source": [
    "d1 = {\"samosa\":50,\"pakora\":70,\"rolls\":20,\"tikki\":40,}\n",
    "d1"
   ]
  },
  {
   "cell_type": "code",
   "execution_count": 72,
   "id": "e1ab10f5",
   "metadata": {},
   "outputs": [
    {
     "data": {
      "text/plain": [
       "dict"
      ]
     },
     "execution_count": 72,
     "metadata": {},
     "output_type": "execute_result"
    }
   ],
   "source": [
    "type(d1)"
   ]
  },
  {
   "cell_type": "code",
   "execution_count": 87,
   "id": "90d6ac6e",
   "metadata": {},
   "outputs": [
    {
     "data": {
      "text/plain": [
       "{'samosa': 50, 'pakora': 70, 'rolls': 20, 'tikki': 40, 'besan paratha': 100}"
      ]
     },
     "execution_count": 87,
     "metadata": {},
     "output_type": "execute_result"
    }
   ],
   "source": [
    "# adding an new element\n",
    "d1[\"besan paratha\"]=100\n",
    "d1"
   ]
  },
  {
   "cell_type": "code",
   "execution_count": 89,
   "id": "e1b67f40",
   "metadata": {},
   "outputs": [
    {
     "data": {
      "text/plain": [
       "dict_keys(['samosa', 'pakora', 'rolls', 'tikki', 'besan paratha'])"
      ]
     },
     "execution_count": 89,
     "metadata": {},
     "output_type": "execute_result"
    }
   ],
   "source": [
    "# extract all keys\n",
    "d1.keys()"
   ]
  },
  {
   "cell_type": "code",
   "execution_count": 91,
   "id": "ea7f4b93",
   "metadata": {},
   "outputs": [
    {
     "data": {
      "text/plain": [
       "dict_values([50, 70, 20, 40, 100])"
      ]
     },
     "execution_count": 91,
     "metadata": {},
     "output_type": "execute_result"
    }
   ],
   "source": [
    "d1.values()"
   ]
  },
  {
   "cell_type": "code",
   "execution_count": 92,
   "id": "51757c37",
   "metadata": {},
   "outputs": [
    {
     "data": {
      "text/plain": [
       "{'dates': 200, 'jalebi': 100, 'sawaiyaan': 200, 'sharbat': 350}"
      ]
     },
     "execution_count": 92,
     "metadata": {},
     "output_type": "execute_result"
    }
   ],
   "source": [
    "d2 = {\"dates\":200,\"jalebi\":100,\"sawaiyaan\":200,\"sharbat\":350}\n",
    "d2"
   ]
  },
  {
   "cell_type": "code",
   "execution_count": 94,
   "id": "02cd913e",
   "metadata": {},
   "outputs": [
    {
     "data": {
      "text/plain": [
       "{'samosa': 50,\n",
       " 'pakora': 70,\n",
       " 'rolls': 20,\n",
       " 'tikki': 40,\n",
       " 'besan paratha': 100,\n",
       " 'dates': 200,\n",
       " 'jalebi': 100,\n",
       " 'sawaiyaan': 200,\n",
       " 'sharbat': 350}"
      ]
     },
     "execution_count": 94,
     "metadata": {},
     "output_type": "execute_result"
    }
   ],
   "source": [
    "#concatinate two dictionaries\n",
    "d1.update(d2)\n",
    "d1"
   ]
  },
  {
   "cell_type": "markdown",
   "id": "4cc2e948",
   "metadata": {},
   "source": [
    "---"
   ]
  },
  {
   "cell_type": "markdown",
   "id": "f1a11b92",
   "metadata": {},
   "source": [
    "# sets\n",
    "- unordered and unidexed\n",
    "- closed in {} braces\n",
    "- no duplications allowed"
   ]
  },
  {
   "cell_type": "code",
   "execution_count": 97,
   "id": "8807f21b",
   "metadata": {},
   "outputs": [
    {
     "data": {
      "text/plain": [
       "{2, 44.55, True, 'shery'}"
      ]
     },
     "execution_count": 97,
     "metadata": {},
     "output_type": "execute_result"
    }
   ],
   "source": [
    "s1 = {2,'shery',44.55,True}\n",
    "s1"
   ]
  },
  {
   "cell_type": "code",
   "execution_count": 103,
   "id": "f0eb5d4c",
   "metadata": {},
   "outputs": [
    {
     "data": {
      "text/plain": [
       "set"
      ]
     },
     "execution_count": 103,
     "metadata": {},
     "output_type": "execute_result"
    }
   ],
   "source": [
    "type(s1)"
   ]
  },
  {
   "cell_type": "code",
   "execution_count": 104,
   "id": "a624d733",
   "metadata": {},
   "outputs": [
    {
     "data": {
      "text/plain": [
       "{2.45, 3, False, 'coolguy'}"
      ]
     },
     "execution_count": 104,
     "metadata": {},
     "output_type": "execute_result"
    }
   ],
   "source": [
    "s2 = {3,'coolguy',False,2.45}\n",
    "s2"
   ]
  },
  {
   "cell_type": "code",
   "execution_count": 108,
   "id": "82bde5db",
   "metadata": {},
   "outputs": [
    {
     "data": {
      "text/plain": [
       "{2, 44.55, 555, True, 'shery'}"
      ]
     },
     "execution_count": 108,
     "metadata": {},
     "output_type": "execute_result"
    }
   ],
   "source": [
    "s1.add(555)\n",
    "s1"
   ]
  },
  {
   "cell_type": "code",
   "execution_count": 109,
   "id": "e889bd48",
   "metadata": {},
   "outputs": [
    {
     "data": {
      "text/plain": [
       "{2, 2.45, 3, 44.55, 555, False, True, 'coolguy', 'shery'}"
      ]
     },
     "execution_count": 109,
     "metadata": {},
     "output_type": "execute_result"
    }
   ],
   "source": [
    "s1.update(s2)\n",
    "s1"
   ]
  }
 ],
 "metadata": {
  "kernelspec": {
   "display_name": "Python 3 (ipykernel)",
   "language": "python",
   "name": "python3"
  },
  "language_info": {
   "codemirror_mode": {
    "name": "ipython",
    "version": 3
   },
   "file_extension": ".py",
   "mimetype": "text/x-python",
   "name": "python",
   "nbconvert_exporter": "python",
   "pygments_lexer": "ipython3",
   "version": "3.11.4"
  }
 },
 "nbformat": 4,
 "nbformat_minor": 5
}
